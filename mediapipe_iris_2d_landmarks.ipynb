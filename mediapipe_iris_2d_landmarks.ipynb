{
  "nbformat": 4,
  "nbformat_minor": 0,
  "metadata": {
    "colab": {
      "name": "mediapipe_iris_2d_landmarks.ipynb",
      "provenance": [],
      "authorship_tag": "ABX9TyPS4/QhCnvpz7wC5WnkQJgP",
      "include_colab_link": true
    },
    "kernelspec": {
      "name": "python3",
      "display_name": "Python 3"
    }
  },
  "cells": [
    {
      "cell_type": "markdown",
      "metadata": {
        "id": "view-in-github",
        "colab_type": "text"
      },
      "source": [
        "<a href=\"https://colab.research.google.com/github/shortcipher3/stackoverflow/blob/master/mediapipe_iris_2d_landmarks.ipynb\" target=\"_parent\"><img src=\"https://colab.research.google.com/assets/colab-badge.svg\" alt=\"Open In Colab\"/></a>"
      ]
    },
    {
      "cell_type": "code",
      "metadata": {
        "colab": {
          "base_uri": "https://localhost:8080/"
        },
        "id": "EKnLliEUoNud",
        "outputId": "fb44b7c1-6252-4120-940e-8ca67fc68813"
      },
      "source": [
        "!wget https://github.com/google/mediapipe/raw/master/mediapipe/models/iris_landmark.tflite"
      ],
      "execution_count": 1,
      "outputs": [
        {
          "output_type": "stream",
          "text": [
            "--2021-01-28 15:36:36--  https://github.com/google/mediapipe/raw/master/mediapipe/models/iris_landmark.tflite\n",
            "Resolving github.com (github.com)... 192.30.255.112\n",
            "Connecting to github.com (github.com)|192.30.255.112|:443... connected.\n",
            "HTTP request sent, awaiting response... 302 Found\n",
            "Location: https://raw.githubusercontent.com/google/mediapipe/master/mediapipe/models/iris_landmark.tflite [following]\n",
            "--2021-01-28 15:36:37--  https://raw.githubusercontent.com/google/mediapipe/master/mediapipe/models/iris_landmark.tflite\n",
            "Resolving raw.githubusercontent.com (raw.githubusercontent.com)... 151.101.0.133, 151.101.64.133, 151.101.128.133, ...\n",
            "Connecting to raw.githubusercontent.com (raw.githubusercontent.com)|151.101.0.133|:443... connected.\n",
            "HTTP request sent, awaiting response... 200 OK\n",
            "Length: 2640568 (2.5M) [application/octet-stream]\n",
            "Saving to: ‘iris_landmark.tflite’\n",
            "\n",
            "iris_landmark.tflit 100%[===================>]   2.52M  --.-KB/s    in 0.1s    \n",
            "\n",
            "2021-01-28 15:36:37 (20.8 MB/s) - ‘iris_landmark.tflite’ saved [2640568/2640568]\n",
            "\n"
          ],
          "name": "stdout"
        }
      ]
    },
    {
      "cell_type": "code",
      "metadata": {
        "id": "m9tWsUR7oZ38"
      },
      "source": [
        "import tensorflow as tf\n",
        "import numpy as np"
      ],
      "execution_count": 2,
      "outputs": []
    },
    {
      "cell_type": "code",
      "metadata": {
        "id": "1XHMOe-jojOa"
      },
      "source": [
        "img = np.random.randint(0, 256, (1,64,64,3), np.uint8)\n",
        "\n",
        "img = (np.float32(img) - 0.0) / 255.0 # normalization (specified in tflite_converter_calculator, not in model card)"
      ],
      "execution_count": 4,
      "outputs": []
    },
    {
      "cell_type": "code",
      "metadata": {
        "colab": {
          "base_uri": "https://localhost:8080/"
        },
        "id": "3OY4ZEiDocBi",
        "outputId": "69701df6-8128-458b-d1f9-6be25cc3fc30"
      },
      "source": [
        "model_file = 'iris_landmark.tflite'\n",
        "interpreter = tf.lite.Interpreter(\n",
        "    model_path=model_file)\n",
        "interpreter.allocate_tensors()\n",
        "\n",
        "input_details = interpreter.get_input_details()\n",
        "output_details = interpreter.get_output_details()\n",
        "\n",
        "print(f'input_details {input_details}')\n",
        "print(f'output_details {output_details}')\n",
        "\n",
        "# check the type of the input tensor\n",
        "floating_model = input_details[0]['dtype'] == np.float32\n",
        "print(f'is floating model: {floating_model}')\n",
        "\n",
        "# NxHxWxC, H:1, W:2\n",
        "height = input_details[0]['shape'][1]\n",
        "width = input_details[0]['shape'][2]\n",
        "\n",
        "interpreter.set_tensor(input_details[0]['index'], img)\n",
        "\n",
        "interpreter.invoke()\n",
        "\n",
        "output_eyes = interpreter.get_tensor(output_details[0]['index'])[0]\n",
        "output_iris = interpreter.get_tensor(output_details[1]['index'])[0]"
      ],
      "execution_count": 5,
      "outputs": [
        {
          "output_type": "stream",
          "text": [
            "input_details [{'name': 'input_1', 'index': 0, 'shape': array([ 1, 64, 64,  3], dtype=int32), 'shape_signature': array([ 1, 64, 64,  3], dtype=int32), 'dtype': <class 'numpy.float32'>, 'quantization': (0.0, 0), 'quantization_parameters': {'scales': array([], dtype=float32), 'zero_points': array([], dtype=int32), 'quantized_dimension': 0}, 'sparsity_parameters': {}}]\n",
            "output_details [{'name': 'output_eyes_contours_and_brows', 'index': 384, 'shape': array([  1, 213], dtype=int32), 'shape_signature': array([  1, 213], dtype=int32), 'dtype': <class 'numpy.float32'>, 'quantization': (0.0, 0), 'quantization_parameters': {'scales': array([], dtype=float32), 'zero_points': array([], dtype=int32), 'quantized_dimension': 0}, 'sparsity_parameters': {}}, {'name': 'output_iris', 'index': 385, 'shape': array([ 1, 15], dtype=int32), 'shape_signature': array([ 1, 15], dtype=int32), 'dtype': <class 'numpy.float32'>, 'quantization': (0.0, 0), 'quantization_parameters': {'scales': array([], dtype=float32), 'zero_points': array([], dtype=int32), 'quantized_dimension': 0}, 'sparsity_parameters': {}}]\n",
            "is floating model: True\n"
          ],
          "name": "stdout"
        }
      ]
    },
    {
      "cell_type": "code",
      "metadata": {
        "colab": {
          "base_uri": "https://localhost:8080/"
        },
        "id": "ZXKWDgTloqvL",
        "outputId": "97451200-f749-4ff2-93ad-e3dfa73cbc45"
      },
      "source": [
        "print(f'output iris landmarks x {output_iris[::3]/64.0}') # tflite_tensors_to_landmarks_calculator normalization\n",
        "print(f'output iris landmarks y {output_iris[1::3]/64.0}')\n",
        "print(f'output iris landmarks z {output_iris[2::3]}')\n",
        "\n",
        "print(f'output eye landmarks x {output_eyes[::3]/64.0}')\n",
        "print(f'output eye landmarks y {output_eyes[1::3]/64.0}')\n",
        "print(f'output eye landmarks z {output_eyes[2::3]}')"
      ],
      "execution_count": 6,
      "outputs": [
        {
          "output_type": "stream",
          "text": [
            "output iris landmarks x [0.55897963 0.6063238  0.56635237 0.5110681  0.5521186 ]\n",
            "output iris landmarks y [0.56208456 0.5643482  0.51276773 0.56113124 0.6122207 ]\n",
            "output iris landmarks z [-9.049727 -9.19979  -9.209205 -9.078963 -9.17062 ]\n",
            "output eye landmarks x [0.35117516 0.38272172 0.41699478 0.4609751  0.523182   0.5803764\n",
            " 0.6270789  0.6559522  0.66901934 0.3676813  0.38844615 0.42696217\n",
            " 0.48754454 0.5484775  0.6088051  0.65074354 0.32605672 0.35947344\n",
            " 0.40124327 0.46354222 0.5286034  0.59509146 0.64592785 0.6756573\n",
            " 0.6925186  0.31955034 0.34157807 0.38402987 0.45450583 0.53435564\n",
            " 0.6046024  0.6705826  0.30013934 0.32728282 0.36449912 0.43831757\n",
            " 0.52824885 0.6109411  0.6694243  0.7064492  0.73264164 0.29185337\n",
            " 0.3043334  0.3538466  0.43054134 0.5261933  0.64126605 0.7090034\n",
            " 0.25805146 0.24881075 0.25412142 0.30552655 0.39131805 0.51375514\n",
            " 0.2093114  0.27279893 0.31911027 0.40632808 0.5311821  0.6195576\n",
            " 0.6850815  0.72896266 0.7576413  0.2048842  0.21858425 0.2712011\n",
            " 0.36477268 0.49632648 0.65693897 0.6880569  0.771753  ]\n",
            "output eye landmarks y [0.52032423 0.54615396 0.5594825  0.567825   0.5663379  0.5548676\n",
            " 0.53606105 0.524327   0.5159129  0.50300986 0.4829821  0.45725578\n",
            " 0.44209152 0.44757375 0.4702323  0.49966988 0.5210739  0.57144916\n",
            " 0.6015709  0.6149492  0.60888445 0.5935336  0.5690816  0.543548\n",
            " 0.5150515  0.47347307 0.43696597 0.40212968 0.3825803  0.3871869\n",
            " 0.4154791  0.46968174 0.54835224 0.63108504 0.6623506  0.68369836\n",
            " 0.6735045  0.6446576  0.6113923  0.5824652  0.5366444  0.4756981\n",
            " 0.41200033 0.3705899  0.34606877 0.34700796 0.39098662 0.45968008\n",
            " 0.5724127  0.4673594  0.37474132 0.3186618  0.284173   0.28304031\n",
            " 0.5894239  0.68596697 0.7396965  0.7662832  0.7411775  0.7000085\n",
            " 0.6594908  0.6170786  0.55494577 0.4541742  0.34590784 0.2708255\n",
            " 0.23097883 0.22819512 0.24780428 0.33388963 0.458362  ]\n",
            "output eye landmarks z [  4.4773197    3.1665058    1.9833475    0.63497335  -0.49066868\n",
            "  -0.8229905   -0.46341082   0.22027452   0.16747499   2.7351997\n",
            "   1.3431375    0.04676098  -1.0078893   -1.4095855   -1.0304005\n",
            "  -0.30756298   5.082507     3.8023741    2.1470828    0.30647632\n",
            "  -0.9329253   -1.5342373   -1.1248431   -0.6870394   -0.40668502\n",
            "   2.7878654    0.5890894   -0.93774134  -2.339825    -2.7297919\n",
            "  -1.9242237   -1.1126003    6.723248     5.7312593    3.6425455\n",
            "   1.182762    -0.5329666   -1.5197737   -1.6528575   -2.1528964\n",
            "  -2.684409     3.8836122    0.7481153   -1.5570799   -3.310401\n",
            "  -4.0583906   -3.7558334   -2.7054796    9.559712     5.7074246\n",
            "   1.6852223   -1.6704991   -4.8717647   -7.347289    13.244674\n",
            "   7.8598175    4.355706     0.57336843  -1.2392073   -2.2737992\n",
            "  -3.2928505   -4.040393    -5.212329     9.513837     4.9061017\n",
            "  -0.18041988  -4.393002    -8.2583685  -10.178113    -8.60843\n",
            "  -7.5313025 ]\n"
          ],
          "name": "stdout"
        }
      ]
    },
    {
      "cell_type": "code",
      "metadata": {
        "id": "XHLruGG-pHoe"
      },
      "source": [
        ""
      ],
      "execution_count": null,
      "outputs": []
    }
  ]
}